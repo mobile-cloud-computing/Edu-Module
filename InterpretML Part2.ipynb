{
  "nbformat": 4,
  "nbformat_minor": 0,
  "metadata": {
    "colab": {
      "provenance": []
    },
    "kernelspec": {
      "name": "python3",
      "display_name": "Python 3"
    },
    "language_info": {
      "name": "python"
    }
  },
  "cells": [
    {
      "cell_type": "code",
      "execution_count": null,
      "metadata": {
        "id": "8mrJ3vWrayCg"
      },
      "outputs": [],
      "source": [
        "import pandas as pd\n",
        "from sklearn.model_selection import train_test_split\n",
        "from lightgbm import LGBMClassifier\n",
        "import zipfile"
      ]
    },
    {
      "cell_type": "code",
      "source": [
        "!pip install raiwidgets\n",
        "!pip install raiutils"
      ],
      "metadata": {
        "colab": {
          "base_uri": "https://localhost:8080/"
        },
        "id": "Rooz5oalbfcl",
        "outputId": "5ac91f5e-aeb2-4788-ec5a-c2dd3eb4447d"
      },
      "execution_count": null,
      "outputs": [
        {
          "output_type": "stream",
          "name": "stdout",
          "text": [
            "Looking in indexes: https://pypi.org/simple, https://us-python.pkg.dev/colab-wheels/public/simple/\n",
            "Requirement already satisfied: raiwidgets in /usr/local/lib/python3.9/dist-packages (0.25.0)\n",
            "Requirement already satisfied: raiutils>=0.4.0 in /usr/local/lib/python3.9/dist-packages (from raiwidgets) (0.4.0)\n",
            "Requirement already satisfied: lightgbm>=2.0.11 in /usr/local/lib/python3.9/dist-packages (from raiwidgets) (2.2.3)\n",
            "Requirement already satisfied: scikit-learn>=0.22.1 in /usr/local/lib/python3.9/dist-packages (from raiwidgets) (1.0.2)\n",
            "Requirement already satisfied: fairlearn>=0.7.0 in /usr/local/lib/python3.9/dist-packages (from raiwidgets) (0.8.0)\n",
            "Requirement already satisfied: scipy>=1.4.1 in /usr/local/lib/python3.9/dist-packages (from raiwidgets) (1.10.1)\n",
            "Requirement already satisfied: rai-core-flask==0.5.0 in /usr/local/lib/python3.9/dist-packages (from raiwidgets) (0.5.0)\n",
            "Requirement already satisfied: erroranalysis>=0.4.1 in /usr/local/lib/python3.9/dist-packages (from raiwidgets) (0.4.1)\n",
            "Requirement already satisfied: itsdangerous==2.0.1 in /usr/local/lib/python3.9/dist-packages (from raiwidgets) (2.0.1)\n",
            "Requirement already satisfied: responsibleai==0.25.0 in /usr/local/lib/python3.9/dist-packages (from raiwidgets) (0.25.0)\n",
            "Requirement already satisfied: numpy<1.24.0,>=1.17.2 in /usr/local/lib/python3.9/dist-packages (from raiwidgets) (1.22.4)\n",
            "Requirement already satisfied: pandas>=0.25.1 in /usr/local/lib/python3.9/dist-packages (from raiwidgets) (1.3.5)\n",
            "Requirement already satisfied: ipython>=7.31.1 in /usr/local/lib/python3.9/dist-packages (from rai-core-flask==0.5.0->raiwidgets) (8.11.0)\n",
            "Requirement already satisfied: greenlet>=1.1.2 in /usr/local/lib/python3.9/dist-packages (from rai-core-flask==0.5.0->raiwidgets) (2.0.2)\n",
            "Requirement already satisfied: Werkzeug<2.1.0 in /usr/local/lib/python3.9/dist-packages (from rai-core-flask==0.5.0->raiwidgets) (2.0.3)\n",
            "Requirement already satisfied: markupsafe<2.1.0 in /usr/local/lib/python3.9/dist-packages (from rai-core-flask==0.5.0->raiwidgets) (2.0.1)\n",
            "Requirement already satisfied: Flask-Cors in /usr/local/lib/python3.9/dist-packages (from rai-core-flask==0.5.0->raiwidgets) (3.0.10)\n",
            "Requirement already satisfied: gevent>=21.12.0 in /usr/local/lib/python3.9/dist-packages (from rai-core-flask==0.5.0->raiwidgets) (22.10.2)\n",
            "Requirement already satisfied: Flask in /usr/local/lib/python3.9/dist-packages (from rai-core-flask==0.5.0->raiwidgets) (2.1.3)\n",
            "Requirement already satisfied: ipykernel<=6.6.0 in /usr/local/lib/python3.9/dist-packages (from responsibleai==0.25.0->raiwidgets) (5.3.4)\n",
            "Requirement already satisfied: jsonschema in /usr/local/lib/python3.9/dist-packages (from responsibleai==0.25.0->raiwidgets) (4.3.3)\n",
            "Requirement already satisfied: numba<0.54.0 in /usr/local/lib/python3.9/dist-packages (from responsibleai==0.25.0->raiwidgets) (0.53.1)\n",
            "Requirement already satisfied: econml>=0.14.0 in /usr/local/lib/python3.9/dist-packages (from responsibleai==0.25.0->raiwidgets) (0.14.0)\n",
            "Requirement already satisfied: dice-ml<0.10,>=0.9 in /usr/local/lib/python3.9/dist-packages (from responsibleai==0.25.0->raiwidgets) (0.9)\n",
            "Requirement already satisfied: interpret-community>=0.28.0 in /usr/local/lib/python3.9/dist-packages (from responsibleai==0.25.0->raiwidgets) (0.28.0)\n",
            "Requirement already satisfied: semver~=2.13.0 in /usr/local/lib/python3.9/dist-packages (from responsibleai==0.25.0->raiwidgets) (2.13.0)\n",
            "Requirement already satisfied: networkx<=2.5 in /usr/local/lib/python3.9/dist-packages (from responsibleai==0.25.0->raiwidgets) (2.5)\n",
            "Requirement already satisfied: pytz>=2017.3 in /usr/local/lib/python3.9/dist-packages (from pandas>=0.25.1->raiwidgets) (2022.7.1)\n",
            "Requirement already satisfied: python-dateutil>=2.7.3 in /usr/local/lib/python3.9/dist-packages (from pandas>=0.25.1->raiwidgets) (2.8.2)\n",
            "Requirement already satisfied: requests in /usr/local/lib/python3.9/dist-packages (from raiutils>=0.4.0->raiwidgets) (2.25.1)\n",
            "Requirement already satisfied: threadpoolctl>=2.0.0 in /usr/local/lib/python3.9/dist-packages (from scikit-learn>=0.22.1->raiwidgets) (3.1.0)\n",
            "Requirement already satisfied: joblib>=0.11 in /usr/local/lib/python3.9/dist-packages (from scikit-learn>=0.22.1->raiwidgets) (1.2.0)\n",
            "Requirement already satisfied: h5py in /usr/local/lib/python3.9/dist-packages (from dice-ml<0.10,>=0.9->responsibleai==0.25.0->raiwidgets) (3.1.0)\n",
            "Requirement already satisfied: tqdm in /usr/local/lib/python3.9/dist-packages (from dice-ml<0.10,>=0.9->responsibleai==0.25.0->raiwidgets) (4.65.0)\n",
            "Requirement already satisfied: sparse in /usr/local/lib/python3.9/dist-packages (from econml>=0.14.0->responsibleai==0.25.0->raiwidgets) (0.14.0)\n",
            "Requirement already satisfied: statsmodels>=0.10 in /usr/local/lib/python3.9/dist-packages (from econml>=0.14.0->responsibleai==0.25.0->raiwidgets) (0.13.5)\n",
            "Requirement already satisfied: shap<0.41.0,>=0.38.1 in /usr/local/lib/python3.9/dist-packages (from econml>=0.14.0->responsibleai==0.25.0->raiwidgets) (0.40.0)\n",
            "Requirement already satisfied: zope.event in /usr/local/lib/python3.9/dist-packages (from gevent>=21.12.0->rai-core-flask==0.5.0->raiwidgets) (4.6)\n",
            "Requirement already satisfied: setuptools in /usr/local/lib/python3.9/dist-packages (from gevent>=21.12.0->rai-core-flask==0.5.0->raiwidgets) (57.4.0)\n",
            "Requirement already satisfied: zope.interface in /usr/local/lib/python3.9/dist-packages (from gevent>=21.12.0->rai-core-flask==0.5.0->raiwidgets) (5.5.2)\n",
            "Requirement already satisfied: packaging in /usr/local/lib/python3.9/dist-packages (from interpret-community>=0.28.0->responsibleai==0.25.0->raiwidgets) (23.0)\n",
            "Requirement already satisfied: interpret-core[required]<=0.2.7,>=0.1.20 in /usr/local/lib/python3.9/dist-packages (from interpret-community>=0.28.0->responsibleai==0.25.0->raiwidgets) (0.2.7)\n",
            "Requirement already satisfied: ml-wrappers~=0.4.2 in /usr/local/lib/python3.9/dist-packages (from interpret-community>=0.28.0->responsibleai==0.25.0->raiwidgets) (0.4.3)\n",
            "Requirement already satisfied: traitlets>=4.1.0 in /usr/local/lib/python3.9/dist-packages (from ipykernel<=6.6.0->responsibleai==0.25.0->raiwidgets) (5.7.1)\n",
            "Requirement already satisfied: tornado>=4.2 in /usr/local/lib/python3.9/dist-packages (from ipykernel<=6.6.0->responsibleai==0.25.0->raiwidgets) (6.2)\n",
            "Requirement already satisfied: jupyter-client in /usr/local/lib/python3.9/dist-packages (from ipykernel<=6.6.0->responsibleai==0.25.0->raiwidgets) (6.1.12)\n",
            "Requirement already satisfied: pexpect>4.3 in /usr/local/lib/python3.9/dist-packages (from ipython>=7.31.1->rai-core-flask==0.5.0->raiwidgets) (4.8.0)\n",
            "Requirement already satisfied: prompt-toolkit!=3.0.37,<3.1.0,>=3.0.30 in /usr/local/lib/python3.9/dist-packages (from ipython>=7.31.1->rai-core-flask==0.5.0->raiwidgets) (3.0.38)\n",
            "Requirement already satisfied: matplotlib-inline in /usr/local/lib/python3.9/dist-packages (from ipython>=7.31.1->rai-core-flask==0.5.0->raiwidgets) (0.1.6)\n",
            "Requirement already satisfied: decorator in /usr/local/lib/python3.9/dist-packages (from ipython>=7.31.1->rai-core-flask==0.5.0->raiwidgets) (4.4.2)\n",
            "Requirement already satisfied: stack-data in /usr/local/lib/python3.9/dist-packages (from ipython>=7.31.1->rai-core-flask==0.5.0->raiwidgets) (0.6.2)\n",
            "Requirement already satisfied: pygments>=2.4.0 in /usr/local/lib/python3.9/dist-packages (from ipython>=7.31.1->rai-core-flask==0.5.0->raiwidgets) (2.6.1)\n",
            "Requirement already satisfied: jedi>=0.16 in /usr/local/lib/python3.9/dist-packages (from ipython>=7.31.1->rai-core-flask==0.5.0->raiwidgets) (0.18.2)\n",
            "Requirement already satisfied: pickleshare in /usr/local/lib/python3.9/dist-packages (from ipython>=7.31.1->rai-core-flask==0.5.0->raiwidgets) (0.7.5)\n",
            "Requirement already satisfied: backcall in /usr/local/lib/python3.9/dist-packages (from ipython>=7.31.1->rai-core-flask==0.5.0->raiwidgets) (0.2.0)\n",
            "\u001b[31mERROR: Operation cancelled by user\u001b[0m\u001b[31m\n",
            "\u001b[0mTraceback (most recent call last):\n",
            "  File \"/usr/local/lib/python3.9/dist-packages/pip/_vendor/pkg_resources/__init__.py\", line 3021, in _dep_map\n",
            "    return self.__dep_map\n",
            "  File \"/usr/local/lib/python3.9/dist-packages/pip/_vendor/pkg_resources/__init__.py\", line 2815, in __getattr__\n",
            "    raise AttributeError(attr)\n",
            "AttributeError: _DistInfoDistribution__dep_map\n",
            "\n",
            "During handling of the above exception, another exception occurred:\n",
            "\n",
            "Traceback (most recent call last):\n",
            "  File \"/usr/local/lib/python3.9/dist-packages/pip/_internal/cli/base_command.py\", line 167, in exc_logging_wrapper\n",
            "    status = run_func(*args)\n",
            "  File \"/usr/local/lib/python3.9/dist-packages/pip/_internal/cli/req_command.py\", line 199, in wrapper\n",
            "    return func(self, options, args)\n",
            "  File \"/usr/local/lib/python3.9/dist-packages/pip/_internal/commands/install.py\", line 339, in run\n",
            "    requirement_set = resolver.resolve(\n",
            "  File \"/usr/local/lib/python3.9/dist-packages/pip/_internal/resolution/resolvelib/resolver.py\", line 94, in resolve\n",
            "    result = self._result = resolver.resolve(\n",
            "  File \"/usr/local/lib/python3.9/dist-packages/pip/_vendor/resolvelib/resolvers.py\", line 481, in resolve\n",
            "    state = resolution.resolve(requirements, max_rounds=max_rounds)\n",
            "  File \"/usr/local/lib/python3.9/dist-packages/pip/_vendor/resolvelib/resolvers.py\", line 373, in resolve\n",
            "    failure_causes = self._attempt_to_pin_criterion(name)\n",
            "  File \"/usr/local/lib/python3.9/dist-packages/pip/_vendor/resolvelib/resolvers.py\", line 213, in _attempt_to_pin_criterion\n",
            "    criteria = self._get_updated_criteria(candidate)\n",
            "  File \"/usr/local/lib/python3.9/dist-packages/pip/_vendor/resolvelib/resolvers.py\", line 203, in _get_updated_criteria\n",
            "    for requirement in self._p.get_dependencies(candidate=candidate):\n",
            "  File \"/usr/local/lib/python3.9/dist-packages/pip/_internal/resolution/resolvelib/provider.py\", line 237, in get_dependencies\n",
            "    return [r for r in candidate.iter_dependencies(with_requires) if r is not None]\n",
            "  File \"/usr/local/lib/python3.9/dist-packages/pip/_internal/resolution/resolvelib/provider.py\", line 237, in <listcomp>\n",
            "    return [r for r in candidate.iter_dependencies(with_requires) if r is not None]\n",
            "  File \"/usr/local/lib/python3.9/dist-packages/pip/_internal/resolution/resolvelib/candidates.py\", line 386, in iter_dependencies\n",
            "    for r in self.dist.iter_dependencies():\n",
            "  File \"/usr/local/lib/python3.9/dist-packages/pip/_internal/metadata/pkg_resources.py\", line 202, in iter_dependencies\n",
            "    return self._dist.requires(extras)\n",
            "  File \"/usr/local/lib/python3.9/dist-packages/pip/_vendor/pkg_resources/__init__.py\", line 2736, in requires\n",
            "    dm = self._dep_map\n",
            "  File \"/usr/local/lib/python3.9/dist-packages/pip/_vendor/pkg_resources/__init__.py\", line 3023, in _dep_map\n",
            "    self.__dep_map = self._compute_dependencies()\n",
            "  File \"/usr/local/lib/python3.9/dist-packages/pip/_vendor/pkg_resources/__init__.py\", line 3033, in _compute_dependencies\n",
            "    reqs.extend(parse_requirements(req))\n",
            "  File \"/usr/local/lib/python3.9/dist-packages/pip/_vendor/pkg_resources/__init__.py\", line 3094, in parse_requirements\n",
            "    yield Requirement(line)\n",
            "  File \"/usr/local/lib/python3.9/dist-packages/pip/_vendor/pkg_resources/__init__.py\", line 3101, in __init__\n",
            "    super(Requirement, self).__init__(requirement_string)\n",
            "  File \"/usr/local/lib/python3.9/dist-packages/pip/_vendor/packaging/requirements.py\", line 102, in __init__\n",
            "    req = REQUIREMENT.parseString(requirement_string)\n",
            "  File \"/usr/local/lib/python3.9/dist-packages/pip/_vendor/pyparsing/core.py\", line 1124, in parse_string\n",
            "    loc, tokens = self._parse(instring, 0)\n",
            "  File \"/usr/local/lib/python3.9/dist-packages/pip/_vendor/pyparsing/core.py\", line 810, in _parseNoCache\n",
            "    loc, tokens = self.parseImpl(instring, pre_loc, doActions)\n",
            "  File \"/usr/local/lib/python3.9/dist-packages/pip/_vendor/pyparsing/core.py\", line 3863, in parseImpl\n",
            "    loc, exprtokens = e._parse(instring, loc, doActions)\n",
            "  File \"/usr/local/lib/python3.9/dist-packages/pip/_vendor/pyparsing/core.py\", line 810, in _parseNoCache\n",
            "    loc, tokens = self.parseImpl(instring, pre_loc, doActions)\n",
            "  File \"/usr/local/lib/python3.9/dist-packages/pip/_vendor/pyparsing/core.py\", line 4091, in parseImpl\n",
            "    return e._parse(\n",
            "  File \"/usr/local/lib/python3.9/dist-packages/pip/_vendor/pyparsing/core.py\", line 810, in _parseNoCache\n",
            "    loc, tokens = self.parseImpl(instring, pre_loc, doActions)\n",
            "  File \"/usr/local/lib/python3.9/dist-packages/pip/_vendor/pyparsing/core.py\", line 3863, in parseImpl\n",
            "    loc, exprtokens = e._parse(instring, loc, doActions)\n",
            "  File \"/usr/local/lib/python3.9/dist-packages/pip/_vendor/pyparsing/core.py\", line 810, in _parseNoCache\n",
            "    loc, tokens = self.parseImpl(instring, pre_loc, doActions)\n",
            "  File \"/usr/local/lib/python3.9/dist-packages/pip/_vendor/pyparsing/core.py\", line 4936, in parseImpl\n",
            "    loc, tokens = self_expr._parse(instring, loc, doActions, callPreParse=False)\n",
            "  File \"/usr/local/lib/python3.9/dist-packages/pip/_vendor/pyparsing/core.py\", line 810, in _parseNoCache\n",
            "    loc, tokens = self.parseImpl(instring, pre_loc, doActions)\n",
            "  File \"/usr/local/lib/python3.9/dist-packages/pip/_vendor/pyparsing/core.py\", line 3863, in parseImpl\n",
            "    loc, exprtokens = e._parse(instring, loc, doActions)\n",
            "  File \"/usr/local/lib/python3.9/dist-packages/pip/_vendor/pyparsing/core.py\", line 849, in _parseNoCache\n",
            "    tokens = fn(instring, tokens_start, ret_tokens)\n",
            "  File \"/usr/local/lib/python3.9/dist-packages/pip/_vendor/pyparsing/core.py\", line 285, in wrapper\n",
            "    ret = func(*args[limit:])\n",
            "  File \"/usr/local/lib/python3.9/dist-packages/pip/_vendor/packaging/requirements.py\", line 71, in <lambda>\n",
            "    lambda s, l, t: Marker(s[t._original_start : t._original_end])\n",
            "  File \"/usr/local/lib/python3.9/dist-packages/pip/_vendor/packaging/markers.py\", line 278, in __init__\n",
            "    self._markers = _coerce_parse_result(MARKER.parseString(marker))\n",
            "  File \"/usr/local/lib/python3.9/dist-packages/pip/_vendor/pyparsing/core.py\", line 1124, in parse_string\n",
            "    loc, tokens = self._parse(instring, 0)\n",
            "  File \"/usr/local/lib/python3.9/dist-packages/pip/_vendor/pyparsing/core.py\", line 810, in _parseNoCache\n",
            "    loc, tokens = self.parseImpl(instring, pre_loc, doActions)\n",
            "  File \"/usr/local/lib/python3.9/dist-packages/pip/_vendor/pyparsing/core.py\", line 3863, in parseImpl\n",
            "    loc, exprtokens = e._parse(instring, loc, doActions)\n",
            "  File \"/usr/local/lib/python3.9/dist-packages/pip/_vendor/pyparsing/core.py\", line 810, in _parseNoCache\n",
            "    loc, tokens = self.parseImpl(instring, pre_loc, doActions)\n",
            "  File \"/usr/local/lib/python3.9/dist-packages/pip/_vendor/pyparsing/core.py\", line 5203, in parseImpl\n",
            "    return super().parseImpl(instring, loc, doActions)\n",
            "  File \"/usr/local/lib/python3.9/dist-packages/pip/_vendor/pyparsing/core.py\", line 4352, in parseImpl\n",
            "    return self.expr._parse(instring, loc, doActions, callPreParse=False)\n",
            "  File \"/usr/local/lib/python3.9/dist-packages/pip/_vendor/pyparsing/core.py\", line 810, in _parseNoCache\n",
            "    loc, tokens = self.parseImpl(instring, pre_loc, doActions)\n",
            "  File \"/usr/local/lib/python3.9/dist-packages/pip/_vendor/pyparsing/core.py\", line 3841, in parseImpl\n",
            "    loc, resultlist = self.exprs[0]._parse(\n",
            "  File \"/usr/local/lib/python3.9/dist-packages/pip/_vendor/pyparsing/core.py\", line 810, in _parseNoCache\n",
            "    loc, tokens = self.parseImpl(instring, pre_loc, doActions)\n",
            "  File \"/usr/local/lib/python3.9/dist-packages/pip/_vendor/pyparsing/core.py\", line 4091, in parseImpl\n",
            "    return e._parse(\n",
            "  File \"/usr/local/lib/python3.9/dist-packages/pip/_vendor/pyparsing/core.py\", line 810, in _parseNoCache\n",
            "    loc, tokens = self.parseImpl(instring, pre_loc, doActions)\n",
            "  File \"/usr/local/lib/python3.9/dist-packages/pip/_vendor/pyparsing/core.py\", line 4352, in parseImpl\n",
            "    return self.expr._parse(instring, loc, doActions, callPreParse=False)\n",
            "  File \"/usr/local/lib/python3.9/dist-packages/pip/_vendor/pyparsing/core.py\", line 810, in _parseNoCache\n",
            "    loc, tokens = self.parseImpl(instring, pre_loc, doActions)\n",
            "  File \"/usr/local/lib/python3.9/dist-packages/pip/_vendor/pyparsing/core.py\", line 3863, in parseImpl\n",
            "    loc, exprtokens = e._parse(instring, loc, doActions)\n",
            "  File \"/usr/local/lib/python3.9/dist-packages/pip/_vendor/pyparsing/core.py\", line 810, in _parseNoCache\n",
            "    loc, tokens = self.parseImpl(instring, pre_loc, doActions)\n",
            "  File \"/usr/local/lib/python3.9/dist-packages/pip/_vendor/pyparsing/core.py\", line 4091, in parseImpl\n",
            "    return e._parse(\n",
            "  File \"/usr/local/lib/python3.9/dist-packages/pip/_vendor/pyparsing/core.py\", line 810, in _parseNoCache\n",
            "    loc, tokens = self.parseImpl(instring, pre_loc, doActions)\n",
            "  File \"/usr/local/lib/python3.9/dist-packages/pip/_vendor/pyparsing/core.py\", line 4091, in parseImpl\n",
            "    return e._parse(\n",
            "  File \"/usr/local/lib/python3.9/dist-packages/pip/_vendor/pyparsing/core.py\", line 814, in _parseNoCache\n",
            "    loc, tokens = self.parseImpl(instring, pre_loc, doActions)\n",
            "  File \"/usr/local/lib/python3.9/dist-packages/pip/_vendor/pyparsing/core.py\", line 2332, in parseImpl\n",
            "    raise ParseException(instring, loc, self.errmsg, self)\n",
            "  File \"/usr/local/lib/python3.9/dist-packages/pip/_vendor/pyparsing/exceptions.py\", line 36, in __init__\n",
            "    self.msg = msg\n",
            "KeyboardInterrupt\n",
            "\n",
            "During handling of the above exception, another exception occurred:\n",
            "\n",
            "Traceback (most recent call last):\n",
            "  File \"/usr/local/bin/pip3\", line 8, in <module>\n",
            "    sys.exit(main())\n",
            "  File \"/usr/local/lib/python3.9/dist-packages/pip/_internal/cli/main.py\", line 70, in main\n",
            "    return command.main(cmd_args)\n",
            "  File \"/usr/local/lib/python3.9/dist-packages/pip/_internal/cli/base_command.py\", line 101, in main\n",
            "    return self._main(args)\n",
            "  File \"/usr/local/lib/python3.9/dist-packages/pip/_internal/cli/base_command.py\", line 221, in _main\n",
            "    return run(options, args)\n",
            "  File \"/usr/local/lib/python3.9/dist-packages/pip/_internal/cli/base_command.py\", line 204, in exc_logging_wrapper\n",
            "    logger.critical(\"Operation cancelled by user\")\n",
            "  File \"/usr/lib/python3.9/logging/__init__.py\", line 1493, in critical\n",
            "    self._log(CRITICAL, msg, args, **kwargs)\n",
            "  File \"/usr/lib/python3.9/logging/__init__.py\", line 1589, in _log\n",
            "    self.handle(record)\n",
            "  File \"/usr/lib/python3.9/logging/__init__.py\", line 1599, in handle\n",
            "    self.callHandlers(record)\n",
            "  File \"/usr/lib/python3.9/logging/__init__.py\", line 1661, in callHandlers\n",
            "    hdlr.handle(record)\n",
            "  File \"/usr/lib/python3.9/logging/__init__.py\", line 952, in handle\n",
            "    self.emit(record)\n",
            "  File \"/usr/lib/python3.9/logging/handlers.py\", line 73, in emit\n",
            "    if self.shouldRollover(record):\n",
            "  File \"/usr/lib/python3.9/logging/handlers.py\", line 189, in shouldRollover\n",
            "    if os.path.exists(self.baseFilename) and not os.path.isfile(self.baseFilename):\n",
            "KeyboardInterrupt\n",
            "^C\n",
            "Looking in indexes: https://pypi.org/simple, https://us-python.pkg.dev/colab-wheels/public/simple/\n",
            "Requirement already satisfied: raiutils in /usr/local/lib/python3.9/dist-packages (0.4.0)\n",
            "Requirement already satisfied: numpy in /usr/local/lib/python3.9/dist-packages (from raiutils) (1.22.4)\n",
            "Requirement already satisfied: pandas in /usr/local/lib/python3.9/dist-packages (from raiutils) (1.3.5)\n",
            "Requirement already satisfied: scipy in /usr/local/lib/python3.9/dist-packages (from raiutils) (1.10.1)\n",
            "Requirement already satisfied: requests in /usr/local/lib/python3.9/dist-packages (from raiutils) (2.25.1)\n",
            "Requirement already satisfied: scikit-learn in /usr/local/lib/python3.9/dist-packages (from raiutils) (1.0.2)\n",
            "Requirement already satisfied: pytz>=2017.3 in /usr/local/lib/python3.9/dist-packages (from pandas->raiutils) (2022.7.1)\n",
            "Requirement already satisfied: python-dateutil>=2.7.3 in /usr/local/lib/python3.9/dist-packages (from pandas->raiutils) (2.8.2)\n",
            "Requirement already satisfied: urllib3<1.27,>=1.21.1 in /usr/local/lib/python3.9/dist-packages (from requests->raiutils) (1.26.14)\n",
            "Requirement already satisfied: idna<3,>=2.5 in /usr/local/lib/python3.9/dist-packages (from requests->raiutils) (2.10)\n",
            "Requirement already satisfied: chardet<5,>=3.0.2 in /usr/local/lib/python3.9/dist-packages (from requests->raiutils) (4.0.0)\n",
            "Requirement already satisfied: certifi>=2017.4.17 in /usr/local/lib/python3.9/dist-packages (from requests->raiutils) (2022.12.7)\n",
            "Requirement already satisfied: joblib>=0.11 in /usr/local/lib/python3.9/dist-packages (from scikit-learn->raiutils) (1.2.0)\n",
            "Requirement already satisfied: threadpoolctl>=2.0.0 in /usr/local/lib/python3.9/dist-packages (from scikit-learn->raiutils) (3.1.0)\n",
            "Requirement already satisfied: six>=1.5 in /usr/local/lib/python3.9/dist-packages (from python-dateutil>=2.7.3->pandas->raiutils) (1.15.0)\n"
          ]
        }
      ]
    },
    {
      "cell_type": "code",
      "source": [
        "from raiutils.dataset import fetch_dataset\n",
        "from sklearn.pipeline import Pipeline\n",
        "from sklearn.impute import SimpleImputer\n",
        "from sklearn.preprocessing import OneHotEncoder\n",
        "from sklearn.compose import ColumnTransformer\n",
        "\n",
        "def split_label(dataset, target_feature):\n",
        "    X = dataset.drop([target_feature], axis=1)\n",
        "    y = dataset[[target_feature]]\n",
        "    return X, y\n",
        "\n",
        "def clean_data(X, y, target_feature):\n",
        "    features = X.columns.values.tolist()\n",
        "    classes = y[target_feature].unique().tolist()\n",
        "    pipe_cfg = {\n",
        "        'num_cols': X.dtypes[X.dtypes == 'int64'].index.values.tolist(),\n",
        "        'cat_cols': X.dtypes[X.dtypes == 'object'].index.values.tolist(),\n",
        "    }\n",
        "    num_pipe = Pipeline([\n",
        "        ('num_imputer', SimpleImputer(strategy='median'))\n",
        "    ])\n",
        "    cat_pipe = Pipeline([\n",
        "        ('cat_imputer', SimpleImputer(strategy='constant', fill_value='?')),\n",
        "        ('cat_encoder', OneHotEncoder(handle_unknown='ignore', sparse=False))\n",
        "    ])\n",
        "    feat_pipe = ColumnTransformer([\n",
        "        ('num_pipe', num_pipe, pipe_cfg['num_cols']),\n",
        "        ('cat_pipe', cat_pipe, pipe_cfg['cat_cols'])\n",
        "    ])\n",
        "    X = feat_pipe.fit_transform(X)\n",
        "    print(pipe_cfg['cat_cols'])\n",
        "    return X, feat_pipe, features, classes\n",
        "\n",
        "target_feature = 'Sold_HigherThan_Median'\n",
        "categorical_features = []\n",
        "\n",
        "outdirname = 'responsibleai.12.28.21'\n",
        "zipfilename = outdirname + '.zip'\n",
        "\n",
        "fetch_dataset('https://publictestdatasets.blob.core.windows.net/data/' + zipfilename, zipfilename)\n",
        "\n",
        "with zipfile.ZipFile(zipfilename, 'r') as unzip:\n",
        "    unzip.extractall('.')\n",
        "\n",
        "all_data = pd.read_csv('apartments-train.csv')\n",
        "all_data = all_data.drop(['SalePrice','SalePriceK'], axis=1)\n",
        "X, y = split_label(all_data, target_feature)\n",
        "\n",
        "\n",
        "X_train_original, X_test_original, y_train, y_test = train_test_split(X, y, test_size=0.5, random_state=7, stratify=y)\n",
        "\n",
        "X_train, feat_pipe, features, classes = clean_data(X_train_original, y_train, target_feature)\n",
        "y_train = y_train[target_feature].to_numpy()\n",
        "\n",
        "X_test = feat_pipe.transform(X_test_original)\n",
        "y_test = y_test[target_feature].to_numpy()\n",
        "\n",
        "train_data = X_train_original.copy()\n",
        "train_data[target_feature] = y_train\n",
        "\n",
        "test_data = X_test_original.copy()\n",
        "test_data[target_feature] = y_test"
      ],
      "metadata": {
        "colab": {
          "base_uri": "https://localhost:8080/"
        },
        "id": "TBbWgoFXbcgt",
        "outputId": "47a6133d-b2fd-433e-96a5-dc325133f7e9"
      },
      "execution_count": null,
      "outputs": [
        {
          "output_type": "stream",
          "name": "stdout",
          "text": [
            "Dataset download attempt 1 of 4\n",
            "[]\n"
          ]
        }
      ]
    },
    {
      "cell_type": "code",
      "source": [
        "clf = LGBMClassifier(random_state=0)\n",
        "model = clf.fit(X_train, y_train)"
      ],
      "metadata": {
        "id": "22dShaCMbn4-"
      },
      "execution_count": null,
      "outputs": []
    },
    {
      "cell_type": "code",
      "source": [
        "from raiwidgets import ResponsibleAIDashboard\n",
        "from responsibleai import RAIInsights"
      ],
      "metadata": {
        "id": "beM-GlkPbq7p"
      },
      "execution_count": null,
      "outputs": []
    },
    {
      "cell_type": "code",
      "source": [
        "from sklearn.pipeline import Pipeline\n",
        "\n",
        "dashboard_pipeline = Pipeline(steps=[('preprocess', feat_pipe), ('model', model)])\n",
        "rai_insights = RAIInsights(dashboard_pipeline, train_data, test_data, target_feature, 'classification',\n",
        "                             categorical_features=categorical_features,\n",
        "                             classes=['Less than median', 'More than median'])"
      ],
      "metadata": {
        "colab": {
          "base_uri": "https://localhost:8080/"
        },
        "id": "z_wVNk00iJWV",
        "outputId": "196fd55d-c123-459f-c877-0d8962c5463f"
      },
      "execution_count": null,
      "outputs": [
        {
          "output_type": "stream",
          "name": "stderr",
          "text": [
            "The categorical_features argument on the RAIInsights constructor is deprecated and will be removed after version 0.26. Please provide categorical features via the feature_metadata argument instead.\n"
          ]
        }
      ]
    },
    {
      "cell_type": "code",
      "source": [
        "from sklearn.pipeline import Pipeline\n",
        "\n",
        "dashboard_pipeline = Pipeline(steps=[('preprocess', feat_pipe), ('model', model)])\n",
        "rai_insights = RAIInsights(dashboard_pipeline, train_data, test_data, target_feature, 'classification',\n",
        "                             categorical_features=categorical_features,\n",
        "                             classes=['Less than median', 'More than median'])"
      ],
      "metadata": {
        "colab": {
          "base_uri": "https://localhost:8080/"
        },
        "id": "fFqHc88GiOCn",
        "outputId": "1e7d7f39-d4b7-45a3-e14d-13fece57c764"
      },
      "execution_count": null,
      "outputs": [
        {
          "output_type": "stream",
          "name": "stderr",
          "text": [
            "The categorical_features argument on the RAIInsights constructor is deprecated and will be removed after version 0.26. Please provide categorical features via the feature_metadata argument instead.\n"
          ]
        }
      ]
    },
    {
      "cell_type": "code",
      "source": [
        "# Interpretability\n",
        "rai_insights.explainer.add()\n",
        "# Error Analysis\n",
        "rai_insights.error_analysis.add()\n",
        "# Counterfactuals: accepts total number of counterfactuals to generate, the label that they should have, and a list of\n",
        "                # strings of categorical feature names\n",
        "rai_insights.counterfactual.add(total_CFs=10, desired_class='opposite')\n"
      ],
      "metadata": {
        "colab": {
          "base_uri": "https://localhost:8080/",
          "height": 443
        },
        "id": "RS8i1mGniS2x",
        "outputId": "309eb297-d4ba-49aa-c216-236bc9be8103"
      },
      "execution_count": null,
      "outputs": [
        {
          "output_type": "stream",
          "name": "stderr",
          "text": [
            "DUPLICATE-EXPLAINER-CONFIG: Ignoring. Explanation has already been added, currently limited to one explainer type.\n"
          ]
        },
        {
          "output_type": "error",
          "ename": "DuplicateManagerConfigException",
          "evalue": "ignored",
          "traceback": [
            "\u001b[0;31m---------------------------------------------------------------------------\u001b[0m",
            "\u001b[0;31mDuplicateManagerConfigException\u001b[0m           Traceback (most recent call last)",
            "Cell \u001b[0;32mIn[14], line 4\u001b[0m\n\u001b[1;32m      2\u001b[0m rai_insights\u001b[38;5;241m.\u001b[39mexplainer\u001b[38;5;241m.\u001b[39madd()\n\u001b[1;32m      3\u001b[0m \u001b[38;5;66;03m# Error Analysis\u001b[39;00m\n\u001b[0;32m----> 4\u001b[0m \u001b[43mrai_insights\u001b[49m\u001b[38;5;241;43m.\u001b[39;49m\u001b[43merror_analysis\u001b[49m\u001b[38;5;241;43m.\u001b[39;49m\u001b[43madd\u001b[49m\u001b[43m(\u001b[49m\u001b[43m)\u001b[49m\n\u001b[1;32m      5\u001b[0m \u001b[38;5;66;03m# Counterfactuals: accepts total number of counterfactuals to generate, the label that they should have, and a list of \u001b[39;00m\n\u001b[1;32m      6\u001b[0m                 \u001b[38;5;66;03m# strings of categorical feature names\u001b[39;00m\n\u001b[1;32m      7\u001b[0m rai_insights\u001b[38;5;241m.\u001b[39mcounterfactual\u001b[38;5;241m.\u001b[39madd(total_CFs\u001b[38;5;241m=\u001b[39m\u001b[38;5;241m10\u001b[39m, desired_class\u001b[38;5;241m=\u001b[39m\u001b[38;5;124m'\u001b[39m\u001b[38;5;124mopposite\u001b[39m\u001b[38;5;124m'\u001b[39m)\n",
            "File \u001b[0;32m/usr/local/lib/python3.9/dist-packages/responsibleai/managers/error_analysis_manager.py:300\u001b[0m, in \u001b[0;36mErrorAnalysisManager.add\u001b[0;34m(self, max_depth, num_leaves, min_child_samples, filter_features)\u001b[0m\n\u001b[1;32m    296\u001b[0m is_duplicate \u001b[38;5;241m=\u001b[39m ea_config\u001b[38;5;241m.\u001b[39mis_duplicate(\n\u001b[1;32m    297\u001b[0m     \u001b[38;5;28mself\u001b[39m\u001b[38;5;241m.\u001b[39m_ea_config_list)\n\u001b[1;32m    299\u001b[0m \u001b[38;5;28;01mif\u001b[39;00m is_duplicate:\n\u001b[0;32m--> 300\u001b[0m     \u001b[38;5;28;01mraise\u001b[39;00m DuplicateManagerConfigException(\n\u001b[1;32m    301\u001b[0m         \u001b[38;5;124m\"\u001b[39m\u001b[38;5;124mDuplicate config specified for error analysis,\u001b[39m\u001b[38;5;124m\"\u001b[39m\n\u001b[1;32m    302\u001b[0m         \u001b[38;5;124m\"\u001b[39m\u001b[38;5;124mconfig already added\u001b[39m\u001b[38;5;124m\"\u001b[39m)\n\u001b[1;32m    303\u001b[0m \u001b[38;5;28;01melse\u001b[39;00m:\n\u001b[1;32m    304\u001b[0m     \u001b[38;5;28mself\u001b[39m\u001b[38;5;241m.\u001b[39m_ea_config_list\u001b[38;5;241m.\u001b[39mappend(ea_config)\n",
            "\u001b[0;31mDuplicateManagerConfigException\u001b[0m: Duplicate config specified for error analysis,config already added"
          ]
        }
      ]
    },
    {
      "cell_type": "code",
      "source": [
        "rai_insights.compute()\n"
      ],
      "metadata": {
        "id": "9VZQfWU3iWEW"
      },
      "execution_count": null,
      "outputs": []
    },
    {
      "cell_type": "code",
      "source": [
        "ResponsibleAIDashboard(rai_insights)\n",
        "from google.colab.output import eval_js\n",
        "print(eval_js(\"google.colab.kernel.proxyPort(5000)\"))"
      ],
      "metadata": {
        "colab": {
          "base_uri": "https://localhost:8080/",
          "height": 235
        },
        "id": "BMeppF2djntl",
        "outputId": "23f5e845-a2ed-4e6b-b4f5-1d5ca2b898f3"
      },
      "execution_count": null,
      "outputs": [
        {
          "output_type": "error",
          "ename": "NameError",
          "evalue": "ignored",
          "traceback": [
            "\u001b[0;31m---------------------------------------------------------------------------\u001b[0m",
            "\u001b[0;31mNameError\u001b[0m                                 Traceback (most recent call last)",
            "Cell \u001b[0;32mIn[17], line 2\u001b[0m\n\u001b[1;32m      1\u001b[0m \u001b[38;5;66;03m#ResponsibleAIDashboard(rai_insights)\u001b[39;00m\n\u001b[0;32m----> 2\u001b[0m ResponsibleAIDashboard(rai_insights, cohort_list\u001b[38;5;241m=\u001b[39m\u001b[43mcohort_list\u001b[49m,\n\u001b[1;32m      3\u001b[0m                        feature_flights\u001b[38;5;241m=\u001b[39m\u001b[38;5;124m\"\u001b[39m\u001b[38;5;124mdataBalanceExperience\u001b[39m\u001b[38;5;124m\"\u001b[39m)\n\u001b[1;32m      4\u001b[0m \u001b[38;5;28;01mfrom\u001b[39;00m \u001b[38;5;21;01mgoogle\u001b[39;00m\u001b[38;5;21;01m.\u001b[39;00m\u001b[38;5;21;01mcolab\u001b[39;00m\u001b[38;5;21;01m.\u001b[39;00m\u001b[38;5;21;01moutput\u001b[39;00m \u001b[38;5;28;01mimport\u001b[39;00m eval_js\n\u001b[1;32m      5\u001b[0m \u001b[38;5;28mprint\u001b[39m(eval_js(\u001b[38;5;124m\"\u001b[39m\u001b[38;5;124mgoogle.colab.kernel.proxyPort(5000)\u001b[39m\u001b[38;5;124m\"\u001b[39m))\n",
            "\u001b[0;31mNameError\u001b[0m: name 'cohort_list' is not defined"
          ]
        }
      ]
    },
    {
      "cell_type": "code",
      "source": [
        "!pip install scikit-learn==1.0.2"
      ],
      "metadata": {
        "colab": {
          "base_uri": "https://localhost:8080/",
          "height": 259
        },
        "id": "Uy76-xeCdXQI",
        "outputId": "8354022d-d393-487a-a653-ad8224aa855f"
      },
      "execution_count": null,
      "outputs": [
        {
          "output_type": "stream",
          "name": "stdout",
          "text": [
            "Looking in indexes: https://pypi.org/simple, https://us-python.pkg.dev/colab-wheels/public/simple/\n",
            "Collecting scikit-learn==1.0.2\n",
            "  Using cached scikit_learn-1.0.2-cp39-cp39-manylinux_2_17_x86_64.manylinux2014_x86_64.whl (26.4 MB)\n",
            "Requirement already satisfied: joblib>=0.11 in /usr/local/lib/python3.9/dist-packages (from scikit-learn==1.0.2) (1.2.0)\n",
            "Requirement already satisfied: numpy>=1.14.6 in /usr/local/lib/python3.9/dist-packages (from scikit-learn==1.0.2) (1.22.4)\n",
            "Requirement already satisfied: threadpoolctl>=2.0.0 in /usr/local/lib/python3.9/dist-packages (from scikit-learn==1.0.2) (3.1.0)\n",
            "Requirement already satisfied: scipy>=1.1.0 in /usr/local/lib/python3.9/dist-packages (from scikit-learn==1.0.2) (1.10.1)\n",
            "Installing collected packages: scikit-learn\n",
            "Successfully installed scikit-learn-1.0.2\n"
          ]
        },
        {
          "output_type": "display_data",
          "data": {
            "application/vnd.colab-display-data+json": {
              "pip_warning": {
                "packages": [
                  "sklearn"
                ]
              }
            }
          },
          "metadata": {}
        }
      ]
    },
    {
      "cell_type": "code",
      "source": [
        "import zipfile\n",
        "\n",
        "from sklearn.pipeline import Pipeline\n",
        "from sklearn.impute import SimpleImputer\n",
        "from sklearn.preprocessing import StandardScaler, OneHotEncoder\n",
        "from sklearn.compose import ColumnTransformer\n",
        "\n",
        "import pandas as pd\n",
        "from lightgbm import LGBMClassifier\n",
        "from raiutils.dataset import fetch_dataset\n",
        "from sklearn.pipeline import Pipeline\n",
        "from sklearn.impute import SimpleImputer\n",
        "from sklearn.preprocessing import StandardScaler, OneHotEncoder\n",
        "from sklearn.compose import ColumnTransformer\n",
        "\n",
        "def split_label(dataset, target_feature):\n",
        "    X = dataset.drop([target_feature], axis=1)\n",
        "    y = dataset[[target_feature]]\n",
        "    return X, y\n",
        "\n",
        "def create_classification_pipeline(X):\n",
        "    pipe_cfg = {\n",
        "        'num_cols': X.dtypes[X.dtypes == 'int64'].index.values.tolist(),\n",
        "        'cat_cols': X.dtypes[X.dtypes == 'object'].index.values.tolist(),\n",
        "    }\n",
        "    num_pipe = Pipeline([\n",
        "        ('num_imputer', SimpleImputer(strategy='median')),\n",
        "        ('num_scaler', StandardScaler())\n",
        "    ])\n",
        "    cat_pipe = Pipeline([\n",
        "        ('cat_imputer', SimpleImputer(strategy='constant', fill_value='?')),\n",
        "        ('cat_encoder', OneHotEncoder(handle_unknown='ignore', sparse=False))\n",
        "    ])\n",
        "    feat_pipe = ColumnTransformer([\n",
        "        ('num_pipe', num_pipe, pipe_cfg['num_cols']),\n",
        "        ('cat_pipe', cat_pipe, pipe_cfg['cat_cols'])\n",
        "    ])\n",
        "\n",
        "    # Append classifier to preprocessing pipeline.\n",
        "    # Now we have a full prediction pipeline.\n",
        "    pipeline = Pipeline(steps=[('preprocessor', feat_pipe),\n",
        "                               ('model', LGBMClassifier(random_state=0))])\n",
        "\n",
        "    return pipeline\n",
        "\n",
        "outdirname = 'responsibleai.12.28.21'\n",
        "zipfilename = outdirname + '.zip'\n",
        "\n",
        "fetch_dataset('https://publictestdatasets.blob.core.windows.net/data/' + zipfilename, zipfilename)\n",
        "\n",
        "with zipfile.ZipFile(zipfilename, 'r') as unzip:\n",
        "    unzip.extractall('.')\n",
        "\n",
        "target_feature = 'income'\n",
        "categorical_features = ['workclass', 'education', 'marital-status',\n",
        "                        'occupation', 'relationship', 'race', 'gender', 'native-country']\n",
        "\n",
        "\n",
        "train_data = pd.read_csv('adult-train.csv', skipinitialspace=True)\n",
        "test_data = pd.read_csv('adult-test.csv', skipinitialspace=True)\n",
        "\n",
        "X_train_original, y_train = split_label(train_data, target_feature)\n",
        "X_test_original, y_test = split_label(test_data, target_feature)\n",
        "\n",
        "pipeline = create_classification_pipeline(X_train_original)\n",
        "\n",
        "y_train = y_train[target_feature].to_numpy()\n",
        "y_test = y_test[target_feature].to_numpy()\n",
        "\n",
        "\n",
        "# Take 500 samples from the test data\n",
        "test_data_sample = test_data.sample(n=500, random_state=5)\n",
        "model = pipeline.fit(X_train_original, y_train)\n",
        "from raiwidgets import ResponsibleAIDashboard\n",
        "from responsibleai import RAIInsights\n",
        "rai_insights = RAIInsights(model, train_data, test_data_sample, target_feature, 'classification',\n",
        "                           categorical_features=categorical_features)\n",
        "# Interpretability\n",
        "rai_insights.explainer.add()\n",
        "# Error Analysis\n",
        "rai_insights.error_analysis.add()\n",
        "# Counterfactuals: accepts total number of counterfactuals to generate, the label that they should have, and a list of\n",
        "                # strings of categorical feature names\n",
        "rai_insights.counterfactual.add(total_CFs=10, desired_class='opposite')\n",
        "rai_insights.compute()\n",
        "from raiwidgets.cohort import Cohort, CohortFilter, CohortFilterMethods\n",
        "\n",
        "# Cohort on age and hours-per-week features in the dataset\n",
        "cohort_filter_age = CohortFilter(\n",
        "    method=CohortFilterMethods.METHOD_LESS,\n",
        "    arg=[65],\n",
        "    column='age')\n",
        "cohort_filter_hours_per_week = CohortFilter(\n",
        "    method=CohortFilterMethods.METHOD_GREATER,\n",
        "    arg=[40],\n",
        "    column='hours-per-week')\n",
        "\n",
        "user_cohort_age_and_hours_per_week = Cohort(name='Cohort Age and Hours-Per-Week')\n",
        "user_cohort_age_and_hours_per_week.add_cohort_filter(cohort_filter_age)\n",
        "user_cohort_age_and_hours_per_week.add_cohort_filter(cohort_filter_hours_per_week)\n",
        "\n",
        "# Cohort on marital-status feature in the dataset\n",
        "cohort_filter_marital_status = CohortFilter(\n",
        "    method=CohortFilterMethods.METHOD_INCLUDES,\n",
        "    arg=[\"Never-married\", \"Divorced\"],\n",
        "    column='marital-status')\n",
        "\n",
        "user_cohort_marital_status = Cohort(name='Cohort Marital-Status')\n",
        "user_cohort_marital_status.add_cohort_filter(cohort_filter_marital_status)\n",
        "\n",
        "# Cohort on index of the row in the dataset\n",
        "cohort_filter_index = CohortFilter(\n",
        "    method=CohortFilterMethods.METHOD_LESS,\n",
        "    arg=[20],\n",
        "    column='Index')\n",
        "\n",
        "user_cohort_index = Cohort(name='Cohort Index')\n",
        "user_cohort_index.add_cohort_filter(cohort_filter_index)\n",
        "\n",
        "# Cohort on predicted target value\n",
        "cohort_filter_predicted_y = CohortFilter(\n",
        "    method=CohortFilterMethods.METHOD_INCLUDES,\n",
        "    arg=['>50K'],\n",
        "    column='Predicted Y')\n",
        "\n",
        "user_cohort_predicted_y = Cohort(name='Cohort Predicted Y')\n",
        "user_cohort_predicted_y.add_cohort_filter(cohort_filter_predicted_y)\n",
        "\n",
        "# Cohort on predicted target value\n",
        "cohort_filter_true_y = CohortFilter(\n",
        "    method=CohortFilterMethods.METHOD_INCLUDES,\n",
        "    arg=['>50K'],\n",
        "    column='True Y')\n",
        "\n",
        "user_cohort_true_y = Cohort(name='Cohort True Y')\n",
        "user_cohort_true_y.add_cohort_filter(cohort_filter_true_y)\n",
        "\n",
        "cohort_list = [user_cohort_age_and_hours_per_week,\n",
        "               user_cohort_marital_status,\n",
        "               user_cohort_index,\n",
        "               user_cohort_predicted_y,\n",
        "               user_cohort_true_y]\n",
        "ResponsibleAIDashboard(rai_insights, cohort_list=cohort_list)\n",
        "from google.colab.output import eval_js\n",
        "print(eval_js(\"google.colab.kernel.proxyPort(5005)\"))"
      ],
      "metadata": {
        "colab": {
          "base_uri": "https://localhost:8080/",
          "height": 173
        },
        "id": "WOXhC14adY7H",
        "outputId": "4bd85353-a2d4-414b-d9b9-e55b7ee2dbb5"
      },
      "execution_count": null,
      "outputs": [
        {
          "output_type": "stream",
          "name": "stdout",
          "text": [
            "Dataset download attempt 1 of 4\n"
          ]
        },
        {
          "output_type": "stream",
          "name": "stderr",
          "text": [
            "The categorical_features argument on the RAIInsights constructor is deprecated and will be removed after version 0.26. Please provide categorical features via the feature_metadata argument instead.\n",
            "100%|██████████| 500/500 [05:33<00:00,  1.50it/s]\n",
            "categorical_feature in Dataset is overridden.\n",
            "New categorical_feature is [1, 3, 5, 6, 7, 8, 9, 13]\n",
            "categorical_feature keyword has been found in `params` and will be ignored.\n",
            "Please use categorical_feature argument of the Dataset constructor to pass this parameter.\n"
          ]
        },
        {
          "output_type": "stream",
          "name": "stdout",
          "text": [
            "ResponsibleAI started at http://localhost:5004\n",
            "https://k8plmj19ta-496ff2e9c6d22116-5000-colab.googleusercontent.com/\n"
          ]
        }
      ]
    },
    {
      "cell_type": "code",
      "source": [
        "from google.colab.output import eval_js\n",
        "print(eval_js(\"google.colab.kernel.proxyPort(5004)\"))"
      ],
      "metadata": {
        "colab": {
          "base_uri": "https://localhost:8080/",
          "height": 34
        },
        "id": "ZqaLRGwH2IRO",
        "outputId": "89994925-f90e-48e6-a216-2639d5d25f28"
      },
      "execution_count": null,
      "outputs": [
        {
          "output_type": "stream",
          "name": "stdout",
          "text": [
            "https://788ambqtygs-496ff2e9c6d22116-5004-colab.googleusercontent.com/\n"
          ]
        }
      ]
    }
  ]
}